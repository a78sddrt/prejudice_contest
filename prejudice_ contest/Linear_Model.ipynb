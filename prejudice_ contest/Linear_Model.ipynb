{
 "cells": [
  {
   "cell_type": "code",
   "execution_count": null,
   "id": "bbc79fe2-ac35-406d-9e07-b642b5fd2db9",
   "metadata": {},
   "outputs": [],
   "source": [
    "#線性回歸，簡潔的Pytorch實現\n",
    "\n",
    "import numpy as np\n",
    "import torch\n",
    "from torch.utils import data\n",
    "from d2l import torch as d2l\n",
    "\n",
    "#生成數據\n",
    "w=torch.tensor([7, -5.6])\n",
    "b=15.3\n",
    "features, labels=d2l.synthetic_data(w,b,1000)\n",
    "\n",
    "#讀取數據\n",
    "def load_array(data_arrays, batch_size, is_train=True):\n",
    "  dataset=data.TensorDataset(*data_arrays)\n",
    "  return data.DataLoader(dataset, batch_size, shuffle=is_train)\n",
    "\n",
    "batch_size=10\n",
    "data_iter=load_array((features,labels),batch_size)\n",
    "\n",
    "next(iter(data_iter))"
   ]
  }
 ],
 "metadata": {
  "kernelspec": {
   "display_name": "Python 3 (ipykernel)",
   "language": "python",
   "name": "python3"
  },
  "language_info": {
   "codemirror_mode": {
    "name": "ipython",
    "version": 3
   },
   "file_extension": ".py",
   "mimetype": "text/x-python",
   "name": "python",
   "nbconvert_exporter": "python",
   "pygments_lexer": "ipython3",
   "version": "3.11.8"
  }
 },
 "nbformat": 4,
 "nbformat_minor": 5
}
